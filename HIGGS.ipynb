{
  "nbformat": 4,
  "nbformat_minor": 0,
  "metadata": {
    "colab": {
      "provenance": [],
      "gpuType": "T4",
      "authorship_tag": "ABX9TyMAa3flnBL6eyUm2Njm97/C",
      "include_colab_link": true
    },
    "kernelspec": {
      "name": "python3",
      "display_name": "Python 3"
    },
    "language_info": {
      "name": "python"
    },
    "accelerator": "GPU"
  },
  "cells": [
    {
      "cell_type": "markdown",
      "metadata": {
        "id": "view-in-github",
        "colab_type": "text"
      },
      "source": [
        "<a href=\"https://colab.research.google.com/github/marcinwolter/MachineLearning-KISD-2025/blob/main/HIGGS.ipynb\" target=\"_parent\"><img src=\"https://colab.research.google.com/assets/colab-badge.svg\" alt=\"Open In Colab\"/></a>"
      ]
    },
    {
      "cell_type": "code",
      "execution_count": null,
      "metadata": {
        "id": "MwGqxyRVDTxR"
      },
      "outputs": [],
      "source": []
    },
    {
      "cell_type": "markdown",
      "metadata": {
        "id": "9dOnW4uNDHlG"
      },
      "source": [
        "## Setup"
      ]
    },
    {
      "cell_type": "code",
      "execution_count": 1,
      "metadata": {
        "id": "76P1A7aFDHlG"
      },
      "outputs": [],
      "source": [
        "import numpy as np\n",
        "import keras\n",
        "from keras import layers\n",
        "\n",
        "import urllib.request # Added for downloading the file\n",
        "from numpy import loadtxt\n",
        "\n",
        "from sklearn.model_selection import train_test_split\n",
        "from sklearn.preprocessing import StandardScaler"
      ]
    },
    {
      "cell_type": "markdown",
      "metadata": {
        "id": "C4Yzi0PBDHlH"
      },
      "source": [
        "## Prepare the data"
      ]
    },
    {
      "cell_type": "code",
      "execution_count": 2,
      "metadata": {
        "id": "ItWvu-0EDHlH",
        "colab": {
          "base_uri": "https://localhost:8080/"
        },
        "outputId": "1280d46e-3f40-4355-f115-a43d049564ce"
      },
      "outputs": [
        {
          "output_type": "stream",
          "name": "stdout",
          "text": [
            "[[ 0.47534187 -0.11938089 -0.44080864 -0.22588748 -0.47893775 -0.12218181\n",
            "  -0.26562841]\n",
            " [-1.08925726 -0.50512521 -0.39442728 -0.07985097 -0.36837201 -0.11230662\n",
            "  -0.51574745]\n",
            " [-0.18530108  0.21963763 -0.39447261 -0.14713863 -0.32359464 -0.45865679\n",
            "  -0.57393828]]\n",
            "[[-2.16420160e-01 -6.30354073e-01  2.25333975e-01 -1.11938335e+00\n",
            "  -6.84758941e-01 -4.97529583e-01 -2.45206999e-01 -1.08585447e+00\n",
            "  -9.73218727e-01  7.63660961e-01 -6.49309390e-01  9.23623406e-01\n",
            "   1.01755001e-01  3.01479053e-01 -1.56677171e+00 -1.04115025e+00\n",
            "  -8.37120754e-01 -6.48530521e-01 -1.00020820e-02 -4.37943041e-02\n",
            "   1.50322546e+00]\n",
            " [-1.48734823e-01  3.25961377e-01  3.58283181e-01  8.34213519e-01\n",
            "  -3.10324331e-01  2.20950514e-01 -5.50988535e-01 -1.57895139e+00\n",
            "   1.14125374e+00 -3.60909146e-01 -2.13044986e-01  1.26196524e+00\n",
            "   1.15720626e+00 -1.01175786e+00 -1.25259279e+00  7.28002584e-01\n",
            "  -8.37120754e-01 -1.16107439e+00 -1.12975661e+00  9.00292205e-04\n",
            "  -7.13288646e-01]\n",
            " [-3.41103637e-01  1.45808436e+00 -1.62557776e+00 -9.08579935e-01\n",
            "   4.23319893e-01  2.40619154e-01  1.26997947e+00  1.37257287e+00\n",
            "  -9.73218727e-01 -2.82614637e-01  1.52623438e+00 -8.14478479e-01\n",
            "   1.15720626e+00  2.58960251e-03  3.51706123e-01 -2.07648395e-01\n",
            "   1.29773512e+00  5.35854781e-01  1.12049543e+00  8.97097906e-01\n",
            "  -7.13288646e-01]]\n",
            "[[-2.16420160e-01 -6.30354073e-01  2.25333975e-01 -1.11938335e+00\n",
            "  -6.84758941e-01 -4.97529583e-01 -2.45206999e-01 -1.08585447e+00\n",
            "  -9.73218727e-01  7.63660961e-01 -6.49309390e-01  9.23623406e-01\n",
            "   1.01755001e-01  3.01479053e-01 -1.56677171e+00 -1.04115025e+00\n",
            "  -8.37120754e-01 -6.48530521e-01 -1.00020820e-02 -4.37943041e-02\n",
            "   1.50322546e+00  4.75341867e-01 -1.19380890e-01 -4.40808639e-01\n",
            "  -2.25887483e-01 -4.78937753e-01 -1.22181809e-01 -2.65628414e-01]\n",
            " [-1.48734823e-01  3.25961377e-01  3.58283181e-01  8.34213519e-01\n",
            "  -3.10324331e-01  2.20950514e-01 -5.50988535e-01 -1.57895139e+00\n",
            "   1.14125374e+00 -3.60909146e-01 -2.13044986e-01  1.26196524e+00\n",
            "   1.15720626e+00 -1.01175786e+00 -1.25259279e+00  7.28002584e-01\n",
            "  -8.37120754e-01 -1.16107439e+00 -1.12975661e+00  9.00292205e-04\n",
            "  -7.13288646e-01 -1.08925726e+00 -5.05125209e-01 -3.94427276e-01\n",
            "  -7.98509704e-02 -3.68372008e-01 -1.12306621e-01 -5.15747449e-01]\n",
            " [-3.41103637e-01  1.45808436e+00 -1.62557776e+00 -9.08579935e-01\n",
            "   4.23319893e-01  2.40619154e-01  1.26997947e+00  1.37257287e+00\n",
            "  -9.73218727e-01 -2.82614637e-01  1.52623438e+00 -8.14478479e-01\n",
            "   1.15720626e+00  2.58960251e-03  3.51706123e-01 -2.07648395e-01\n",
            "   1.29773512e+00  5.35854781e-01  1.12049543e+00  8.97097906e-01\n",
            "  -7.13288646e-01 -1.85301085e-01  2.19637628e-01 -3.94472605e-01\n",
            "  -1.47138632e-01 -3.23594636e-01 -4.58656788e-01 -5.73938278e-01]]\n"
          ]
        }
      ],
      "source": [
        "# Model / data parameters\n",
        "\n",
        "# Download the dataset\n",
        "url = 'https://archive.ics.uci.edu/static/public/280/higgs.zip'\n",
        "#urllib.request.urlretrieve(url, 'higgs.zip') # Downloads and saves as 'higgs.zip'\n",
        "\n",
        "#!unzip higgs.zip\n",
        "# load the dataset and limit the number of rows\n",
        "dataset = loadtxt('HIGGS.csv.gz', delimiter=',', max_rows=1000000)\n",
        "#print(\"Dataset\")\n",
        "#print(dataset[0:3])\n",
        "\n",
        "\n",
        "y = dataset[:,0]\n",
        "x_all = StandardScaler().fit_transform(dataset[:,1:])\n",
        "x_low = x_all[:,0:21]\n",
        "x_high = x_all[:,21:28]\n",
        "\n",
        "print(x_high[0:3])\n",
        "print(x_low[0:3])\n",
        "print(x_all[0:3])\n",
        "\n",
        "x_all_train, x_all_test, y_all_train, y_all_test = \\\n",
        "    train_test_split(x_all, y, test_size=.3, random_state=42)\n",
        "\n",
        "x_high_train, x_high_test, y_high_train, y_high_test = \\\n",
        "    train_test_split(x_high, y, test_size=.3, random_state=42)\n",
        "\n",
        "x_low_train, x_low_test, y_low_train, y_low_test = \\\n",
        "    train_test_split(x_low, y, test_size=.3, random_state=42)\n",
        "\n",
        "\n"
      ]
    },
    {
      "cell_type": "markdown",
      "metadata": {
        "id": "HuVBg0nJDHlH"
      },
      "source": [
        "## Build the model"
      ]
    },
    {
      "cell_type": "code",
      "execution_count": 3,
      "metadata": {
        "id": "qZ1CK2tnDHlI",
        "colab": {
          "base_uri": "https://localhost:8080/",
          "height": 353
        },
        "outputId": "501162d1-fb78-4340-b9cb-401c61641d2b"
      },
      "outputs": [
        {
          "output_type": "display_data",
          "data": {
            "text/plain": [
              "\u001b[1mModel: \"sequential\"\u001b[0m\n"
            ],
            "text/html": [
              "<pre style=\"white-space:pre;overflow-x:auto;line-height:normal;font-family:Menlo,'DejaVu Sans Mono',consolas,'Courier New',monospace\"><span style=\"font-weight: bold\">Model: \"sequential\"</span>\n",
              "</pre>\n"
            ]
          },
          "metadata": {}
        },
        {
          "output_type": "display_data",
          "data": {
            "text/plain": [
              "┏━━━━━━━━━━━━━━━━━━━━━━━━━━━━━━━━━━━━━━┳━━━━━━━━━━━━━━━━━━━━━━━━━━━━━┳━━━━━━━━━━━━━━━━━┓\n",
              "┃\u001b[1m \u001b[0m\u001b[1mLayer (type)                        \u001b[0m\u001b[1m \u001b[0m┃\u001b[1m \u001b[0m\u001b[1mOutput Shape               \u001b[0m\u001b[1m \u001b[0m┃\u001b[1m \u001b[0m\u001b[1m        Param #\u001b[0m\u001b[1m \u001b[0m┃\n",
              "┡━━━━━━━━━━━━━━━━━━━━━━━━━━━━━━━━━━━━━━╇━━━━━━━━━━━━━━━━━━━━━━━━━━━━━╇━━━━━━━━━━━━━━━━━┩\n",
              "│ dense (\u001b[38;5;33mDense\u001b[0m)                        │ (\u001b[38;5;45mNone\u001b[0m, \u001b[38;5;34m128\u001b[0m)                 │           \u001b[38;5;34m1,024\u001b[0m │\n",
              "├──────────────────────────────────────┼─────────────────────────────┼─────────────────┤\n",
              "│ dense_1 (\u001b[38;5;33mDense\u001b[0m)                      │ (\u001b[38;5;45mNone\u001b[0m, \u001b[38;5;34m128\u001b[0m)                 │          \u001b[38;5;34m16,512\u001b[0m │\n",
              "├──────────────────────────────────────┼─────────────────────────────┼─────────────────┤\n",
              "│ dropout (\u001b[38;5;33mDropout\u001b[0m)                    │ (\u001b[38;5;45mNone\u001b[0m, \u001b[38;5;34m128\u001b[0m)                 │               \u001b[38;5;34m0\u001b[0m │\n",
              "├──────────────────────────────────────┼─────────────────────────────┼─────────────────┤\n",
              "│ dense_2 (\u001b[38;5;33mDense\u001b[0m)                      │ (\u001b[38;5;45mNone\u001b[0m, \u001b[38;5;34m128\u001b[0m)                 │          \u001b[38;5;34m16,512\u001b[0m │\n",
              "├──────────────────────────────────────┼─────────────────────────────┼─────────────────┤\n",
              "│ dense_3 (\u001b[38;5;33mDense\u001b[0m)                      │ (\u001b[38;5;45mNone\u001b[0m, \u001b[38;5;34m128\u001b[0m)                 │          \u001b[38;5;34m16,512\u001b[0m │\n",
              "├──────────────────────────────────────┼─────────────────────────────┼─────────────────┤\n",
              "│ dropout_1 (\u001b[38;5;33mDropout\u001b[0m)                  │ (\u001b[38;5;45mNone\u001b[0m, \u001b[38;5;34m128\u001b[0m)                 │               \u001b[38;5;34m0\u001b[0m │\n",
              "├──────────────────────────────────────┼─────────────────────────────┼─────────────────┤\n",
              "│ dense_4 (\u001b[38;5;33mDense\u001b[0m)                      │ (\u001b[38;5;45mNone\u001b[0m, \u001b[38;5;34m1\u001b[0m)                   │             \u001b[38;5;34m129\u001b[0m │\n",
              "└──────────────────────────────────────┴─────────────────────────────┴─────────────────┘\n"
            ],
            "text/html": [
              "<pre style=\"white-space:pre;overflow-x:auto;line-height:normal;font-family:Menlo,'DejaVu Sans Mono',consolas,'Courier New',monospace\">┏━━━━━━━━━━━━━━━━━━━━━━━━━━━━━━━━━━━━━━┳━━━━━━━━━━━━━━━━━━━━━━━━━━━━━┳━━━━━━━━━━━━━━━━━┓\n",
              "┃<span style=\"font-weight: bold\"> Layer (type)                         </span>┃<span style=\"font-weight: bold\"> Output Shape                </span>┃<span style=\"font-weight: bold\">         Param # </span>┃\n",
              "┡━━━━━━━━━━━━━━━━━━━━━━━━━━━━━━━━━━━━━━╇━━━━━━━━━━━━━━━━━━━━━━━━━━━━━╇━━━━━━━━━━━━━━━━━┩\n",
              "│ dense (<span style=\"color: #0087ff; text-decoration-color: #0087ff\">Dense</span>)                        │ (<span style=\"color: #00d7ff; text-decoration-color: #00d7ff\">None</span>, <span style=\"color: #00af00; text-decoration-color: #00af00\">128</span>)                 │           <span style=\"color: #00af00; text-decoration-color: #00af00\">1,024</span> │\n",
              "├──────────────────────────────────────┼─────────────────────────────┼─────────────────┤\n",
              "│ dense_1 (<span style=\"color: #0087ff; text-decoration-color: #0087ff\">Dense</span>)                      │ (<span style=\"color: #00d7ff; text-decoration-color: #00d7ff\">None</span>, <span style=\"color: #00af00; text-decoration-color: #00af00\">128</span>)                 │          <span style=\"color: #00af00; text-decoration-color: #00af00\">16,512</span> │\n",
              "├──────────────────────────────────────┼─────────────────────────────┼─────────────────┤\n",
              "│ dropout (<span style=\"color: #0087ff; text-decoration-color: #0087ff\">Dropout</span>)                    │ (<span style=\"color: #00d7ff; text-decoration-color: #00d7ff\">None</span>, <span style=\"color: #00af00; text-decoration-color: #00af00\">128</span>)                 │               <span style=\"color: #00af00; text-decoration-color: #00af00\">0</span> │\n",
              "├──────────────────────────────────────┼─────────────────────────────┼─────────────────┤\n",
              "│ dense_2 (<span style=\"color: #0087ff; text-decoration-color: #0087ff\">Dense</span>)                      │ (<span style=\"color: #00d7ff; text-decoration-color: #00d7ff\">None</span>, <span style=\"color: #00af00; text-decoration-color: #00af00\">128</span>)                 │          <span style=\"color: #00af00; text-decoration-color: #00af00\">16,512</span> │\n",
              "├──────────────────────────────────────┼─────────────────────────────┼─────────────────┤\n",
              "│ dense_3 (<span style=\"color: #0087ff; text-decoration-color: #0087ff\">Dense</span>)                      │ (<span style=\"color: #00d7ff; text-decoration-color: #00d7ff\">None</span>, <span style=\"color: #00af00; text-decoration-color: #00af00\">128</span>)                 │          <span style=\"color: #00af00; text-decoration-color: #00af00\">16,512</span> │\n",
              "├──────────────────────────────────────┼─────────────────────────────┼─────────────────┤\n",
              "│ dropout_1 (<span style=\"color: #0087ff; text-decoration-color: #0087ff\">Dropout</span>)                  │ (<span style=\"color: #00d7ff; text-decoration-color: #00d7ff\">None</span>, <span style=\"color: #00af00; text-decoration-color: #00af00\">128</span>)                 │               <span style=\"color: #00af00; text-decoration-color: #00af00\">0</span> │\n",
              "├──────────────────────────────────────┼─────────────────────────────┼─────────────────┤\n",
              "│ dense_4 (<span style=\"color: #0087ff; text-decoration-color: #0087ff\">Dense</span>)                      │ (<span style=\"color: #00d7ff; text-decoration-color: #00d7ff\">None</span>, <span style=\"color: #00af00; text-decoration-color: #00af00\">1</span>)                   │             <span style=\"color: #00af00; text-decoration-color: #00af00\">129</span> │\n",
              "└──────────────────────────────────────┴─────────────────────────────┴─────────────────┘\n",
              "</pre>\n"
            ]
          },
          "metadata": {}
        },
        {
          "output_type": "display_data",
          "data": {
            "text/plain": [
              "\u001b[1m Total params: \u001b[0m\u001b[38;5;34m50,689\u001b[0m (198.00 KB)\n"
            ],
            "text/html": [
              "<pre style=\"white-space:pre;overflow-x:auto;line-height:normal;font-family:Menlo,'DejaVu Sans Mono',consolas,'Courier New',monospace\"><span style=\"font-weight: bold\"> Total params: </span><span style=\"color: #00af00; text-decoration-color: #00af00\">50,689</span> (198.00 KB)\n",
              "</pre>\n"
            ]
          },
          "metadata": {}
        },
        {
          "output_type": "display_data",
          "data": {
            "text/plain": [
              "\u001b[1m Trainable params: \u001b[0m\u001b[38;5;34m50,689\u001b[0m (198.00 KB)\n"
            ],
            "text/html": [
              "<pre style=\"white-space:pre;overflow-x:auto;line-height:normal;font-family:Menlo,'DejaVu Sans Mono',consolas,'Courier New',monospace\"><span style=\"font-weight: bold\"> Trainable params: </span><span style=\"color: #00af00; text-decoration-color: #00af00\">50,689</span> (198.00 KB)\n",
              "</pre>\n"
            ]
          },
          "metadata": {}
        },
        {
          "output_type": "display_data",
          "data": {
            "text/plain": [
              "\u001b[1m Non-trainable params: \u001b[0m\u001b[38;5;34m0\u001b[0m (0.00 B)\n"
            ],
            "text/html": [
              "<pre style=\"white-space:pre;overflow-x:auto;line-height:normal;font-family:Menlo,'DejaVu Sans Mono',consolas,'Courier New',monospace\"><span style=\"font-weight: bold\"> Non-trainable params: </span><span style=\"color: #00af00; text-decoration-color: #00af00\">0</span> (0.00 B)\n",
              "</pre>\n"
            ]
          },
          "metadata": {}
        }
      ],
      "source": [
        "input_shape_high = (7,)\n",
        "\n",
        "model_high = keras.Sequential(\n",
        "    [\n",
        "        keras.Input(shape=input_shape_high),\n",
        "        layers.Dense(128, activation=\"relu\"),\n",
        "        layers.Dense(128, activation=\"relu\"),\n",
        "        layers.Dropout(0.2),\n",
        "        layers.Dense(128, activation=\"relu\"),\n",
        "        layers.Dense(128, activation=\"relu\"),\n",
        "        layers.Dropout(0.2),\n",
        "        layers.Dense(1, activation=\"sigmoid\"),\n",
        "    ]\n",
        ")\n",
        "\n",
        "model_high.summary()"
      ]
    },
    {
      "cell_type": "markdown",
      "metadata": {
        "id": "t1mjZa92DHlI"
      },
      "source": [
        "## Train the model"
      ]
    },
    {
      "cell_type": "code",
      "execution_count": 4,
      "metadata": {
        "id": "JF_D8h0_DHlI",
        "colab": {
          "base_uri": "https://localhost:8080/"
        },
        "outputId": "a335774a-0f4c-4f4f-a791-20ed9cf58f7d"
      },
      "outputs": [
        {
          "output_type": "stream",
          "name": "stdout",
          "text": [
            "Epoch 1/50\n",
            "\u001b[1m4922/4922\u001b[0m \u001b[32m━━━━━━━━━━━━━━━━━━━━\u001b[0m\u001b[37m\u001b[0m \u001b[1m19s\u001b[0m 3ms/step - accuracy: 0.6848 - loss: 0.5826 - val_accuracy: 0.7051 - val_loss: 0.5557\n",
            "Epoch 2/50\n",
            "\u001b[1m4922/4922\u001b[0m \u001b[32m━━━━━━━━━━━━━━━━━━━━\u001b[0m\u001b[37m\u001b[0m \u001b[1m17s\u001b[0m 3ms/step - accuracy: 0.7028 - loss: 0.5597 - val_accuracy: 0.7080 - val_loss: 0.5532\n",
            "Epoch 3/50\n",
            "\u001b[1m4922/4922\u001b[0m \u001b[32m━━━━━━━━━━━━━━━━━━━━\u001b[0m\u001b[37m\u001b[0m \u001b[1m15s\u001b[0m 3ms/step - accuracy: 0.7050 - loss: 0.5565 - val_accuracy: 0.7096 - val_loss: 0.5506\n",
            "Epoch 4/50\n",
            "\u001b[1m4922/4922\u001b[0m \u001b[32m━━━━━━━━━━━━━━━━━━━━\u001b[0m\u001b[37m\u001b[0m \u001b[1m19s\u001b[0m 3ms/step - accuracy: 0.7084 - loss: 0.5523 - val_accuracy: 0.7114 - val_loss: 0.5480\n",
            "Epoch 5/50\n",
            "\u001b[1m4922/4922\u001b[0m \u001b[32m━━━━━━━━━━━━━━━━━━━━\u001b[0m\u001b[37m\u001b[0m \u001b[1m20s\u001b[0m 3ms/step - accuracy: 0.7087 - loss: 0.5514 - val_accuracy: 0.7105 - val_loss: 0.5479\n",
            "Epoch 6/50\n",
            "\u001b[1m4922/4922\u001b[0m \u001b[32m━━━━━━━━━━━━━━━━━━━━\u001b[0m\u001b[37m\u001b[0m \u001b[1m20s\u001b[0m 3ms/step - accuracy: 0.7097 - loss: 0.5506 - val_accuracy: 0.7112 - val_loss: 0.5478\n",
            "Epoch 7/50\n",
            "\u001b[1m4922/4922\u001b[0m \u001b[32m━━━━━━━━━━━━━━━━━━━━\u001b[0m\u001b[37m\u001b[0m \u001b[1m20s\u001b[0m 3ms/step - accuracy: 0.7097 - loss: 0.5499 - val_accuracy: 0.7126 - val_loss: 0.5459\n",
            "Epoch 8/50\n",
            "\u001b[1m4922/4922\u001b[0m \u001b[32m━━━━━━━━━━━━━━━━━━━━\u001b[0m\u001b[37m\u001b[0m \u001b[1m14s\u001b[0m 3ms/step - accuracy: 0.7101 - loss: 0.5503 - val_accuracy: 0.7114 - val_loss: 0.5461\n",
            "Epoch 9/50\n",
            "\u001b[1m4922/4922\u001b[0m \u001b[32m━━━━━━━━━━━━━━━━━━━━\u001b[0m\u001b[37m\u001b[0m \u001b[1m21s\u001b[0m 3ms/step - accuracy: 0.7110 - loss: 0.5495 - val_accuracy: 0.7134 - val_loss: 0.5484\n",
            "Epoch 10/50\n",
            "\u001b[1m4922/4922\u001b[0m \u001b[32m━━━━━━━━━━━━━━━━━━━━\u001b[0m\u001b[37m\u001b[0m \u001b[1m20s\u001b[0m 3ms/step - accuracy: 0.7113 - loss: 0.5494 - val_accuracy: 0.7120 - val_loss: 0.5473\n",
            "Epoch 11/50\n",
            "\u001b[1m4922/4922\u001b[0m \u001b[32m━━━━━━━━━━━━━━━━━━━━\u001b[0m\u001b[37m\u001b[0m \u001b[1m14s\u001b[0m 3ms/step - accuracy: 0.7110 - loss: 0.5487 - val_accuracy: 0.7126 - val_loss: 0.5470\n",
            "Epoch 12/50\n",
            "\u001b[1m4922/4922\u001b[0m \u001b[32m━━━━━━━━━━━━━━━━━━━━\u001b[0m\u001b[37m\u001b[0m \u001b[1m21s\u001b[0m 3ms/step - accuracy: 0.7131 - loss: 0.5463 - val_accuracy: 0.7117 - val_loss: 0.5464\n",
            "Epoch 13/50\n",
            "\u001b[1m4922/4922\u001b[0m \u001b[32m━━━━━━━━━━━━━━━━━━━━\u001b[0m\u001b[37m\u001b[0m \u001b[1m13s\u001b[0m 3ms/step - accuracy: 0.7117 - loss: 0.5480 - val_accuracy: 0.7136 - val_loss: 0.5449\n",
            "Epoch 14/50\n",
            "\u001b[1m4922/4922\u001b[0m \u001b[32m━━━━━━━━━━━━━━━━━━━━\u001b[0m\u001b[37m\u001b[0m \u001b[1m14s\u001b[0m 3ms/step - accuracy: 0.7126 - loss: 0.5468 - val_accuracy: 0.7104 - val_loss: 0.5467\n",
            "Epoch 15/50\n",
            "\u001b[1m4922/4922\u001b[0m \u001b[32m━━━━━━━━━━━━━━━━━━━━\u001b[0m\u001b[37m\u001b[0m \u001b[1m20s\u001b[0m 3ms/step - accuracy: 0.7119 - loss: 0.5471 - val_accuracy: 0.7124 - val_loss: 0.5454\n",
            "Epoch 16/50\n",
            "\u001b[1m4922/4922\u001b[0m \u001b[32m━━━━━━━━━━━━━━━━━━━━\u001b[0m\u001b[37m\u001b[0m \u001b[1m14s\u001b[0m 3ms/step - accuracy: 0.7135 - loss: 0.5463 - val_accuracy: 0.7129 - val_loss: 0.5449\n",
            "Epoch 17/50\n",
            "\u001b[1m4922/4922\u001b[0m \u001b[32m━━━━━━━━━━━━━━━━━━━━\u001b[0m\u001b[37m\u001b[0m \u001b[1m14s\u001b[0m 3ms/step - accuracy: 0.7132 - loss: 0.5468 - val_accuracy: 0.7114 - val_loss: 0.5444\n",
            "Epoch 18/50\n",
            "\u001b[1m4922/4922\u001b[0m \u001b[32m━━━━━━━━━━━━━━━━━━━━\u001b[0m\u001b[37m\u001b[0m \u001b[1m21s\u001b[0m 3ms/step - accuracy: 0.7141 - loss: 0.5465 - val_accuracy: 0.7118 - val_loss: 0.5448\n",
            "Epoch 19/50\n",
            "\u001b[1m4922/4922\u001b[0m \u001b[32m━━━━━━━━━━━━━━━━━━━━\u001b[0m\u001b[37m\u001b[0m \u001b[1m22s\u001b[0m 3ms/step - accuracy: 0.7142 - loss: 0.5463 - val_accuracy: 0.7136 - val_loss: 0.5445\n",
            "Epoch 20/50\n",
            "\u001b[1m4922/4922\u001b[0m \u001b[32m━━━━━━━━━━━━━━━━━━━━\u001b[0m\u001b[37m\u001b[0m \u001b[1m13s\u001b[0m 3ms/step - accuracy: 0.7131 - loss: 0.5462 - val_accuracy: 0.7137 - val_loss: 0.5443\n",
            "Epoch 21/50\n",
            "\u001b[1m4922/4922\u001b[0m \u001b[32m━━━━━━━━━━━━━━━━━━━━\u001b[0m\u001b[37m\u001b[0m \u001b[1m14s\u001b[0m 3ms/step - accuracy: 0.7131 - loss: 0.5464 - val_accuracy: 0.7139 - val_loss: 0.5443\n",
            "Epoch 22/50\n",
            "\u001b[1m4922/4922\u001b[0m \u001b[32m━━━━━━━━━━━━━━━━━━━━\u001b[0m\u001b[37m\u001b[0m \u001b[1m14s\u001b[0m 3ms/step - accuracy: 0.7132 - loss: 0.5469 - val_accuracy: 0.7137 - val_loss: 0.5440\n",
            "Epoch 23/50\n",
            "\u001b[1m4922/4922\u001b[0m \u001b[32m━━━━━━━━━━━━━━━━━━━━\u001b[0m\u001b[37m\u001b[0m \u001b[1m20s\u001b[0m 3ms/step - accuracy: 0.7145 - loss: 0.5455 - val_accuracy: 0.7126 - val_loss: 0.5451\n",
            "Epoch 24/50\n",
            "\u001b[1m4922/4922\u001b[0m \u001b[32m━━━━━━━━━━━━━━━━━━━━\u001b[0m\u001b[37m\u001b[0m \u001b[1m14s\u001b[0m 3ms/step - accuracy: 0.7144 - loss: 0.5456 - val_accuracy: 0.7134 - val_loss: 0.5440\n",
            "Epoch 25/50\n",
            "\u001b[1m4922/4922\u001b[0m \u001b[32m━━━━━━━━━━━━━━━━━━━━\u001b[0m\u001b[37m\u001b[0m \u001b[1m22s\u001b[0m 3ms/step - accuracy: 0.7143 - loss: 0.5448 - val_accuracy: 0.7142 - val_loss: 0.5444\n",
            "Epoch 26/50\n",
            "\u001b[1m4922/4922\u001b[0m \u001b[32m━━━━━━━━━━━━━━━━━━━━\u001b[0m\u001b[37m\u001b[0m \u001b[1m14s\u001b[0m 3ms/step - accuracy: 0.7137 - loss: 0.5450 - val_accuracy: 0.7134 - val_loss: 0.5440\n",
            "Epoch 27/50\n",
            "\u001b[1m4922/4922\u001b[0m \u001b[32m━━━━━━━━━━━━━━━━━━━━\u001b[0m\u001b[37m\u001b[0m \u001b[1m21s\u001b[0m 3ms/step - accuracy: 0.7147 - loss: 0.5444 - val_accuracy: 0.7139 - val_loss: 0.5440\n",
            "Epoch 28/50\n",
            "\u001b[1m4922/4922\u001b[0m \u001b[32m━━━━━━━━━━━━━━━━━━━━\u001b[0m\u001b[37m\u001b[0m \u001b[1m20s\u001b[0m 3ms/step - accuracy: 0.7155 - loss: 0.5446 - val_accuracy: 0.7124 - val_loss: 0.5447\n",
            "Epoch 29/50\n",
            "\u001b[1m4922/4922\u001b[0m \u001b[32m━━━━━━━━━━━━━━━━━━━━\u001b[0m\u001b[37m\u001b[0m \u001b[1m14s\u001b[0m 3ms/step - accuracy: 0.7149 - loss: 0.5445 - val_accuracy: 0.7121 - val_loss: 0.5444\n",
            "Epoch 30/50\n",
            "\u001b[1m4922/4922\u001b[0m \u001b[32m━━━━━━━━━━━━━━━━━━━━\u001b[0m\u001b[37m\u001b[0m \u001b[1m20s\u001b[0m 3ms/step - accuracy: 0.7150 - loss: 0.5440 - val_accuracy: 0.7137 - val_loss: 0.5454\n",
            "Epoch 31/50\n",
            "\u001b[1m4922/4922\u001b[0m \u001b[32m━━━━━━━━━━━━━━━━━━━━\u001b[0m\u001b[37m\u001b[0m \u001b[1m20s\u001b[0m 3ms/step - accuracy: 0.7149 - loss: 0.5449 - val_accuracy: 0.7131 - val_loss: 0.5440\n",
            "Epoch 32/50\n",
            "\u001b[1m4922/4922\u001b[0m \u001b[32m━━━━━━━━━━━━━━━━━━━━\u001b[0m\u001b[37m\u001b[0m \u001b[1m22s\u001b[0m 3ms/step - accuracy: 0.7158 - loss: 0.5437 - val_accuracy: 0.7143 - val_loss: 0.5435\n",
            "Epoch 33/50\n",
            "\u001b[1m4922/4922\u001b[0m \u001b[32m━━━━━━━━━━━━━━━━━━━━\u001b[0m\u001b[37m\u001b[0m \u001b[1m19s\u001b[0m 3ms/step - accuracy: 0.7154 - loss: 0.5443 - val_accuracy: 0.7132 - val_loss: 0.5438\n",
            "Epoch 34/50\n",
            "\u001b[1m4922/4922\u001b[0m \u001b[32m━━━━━━━━━━━━━━━━━━━━\u001b[0m\u001b[37m\u001b[0m \u001b[1m14s\u001b[0m 3ms/step - accuracy: 0.7156 - loss: 0.5436 - val_accuracy: 0.7138 - val_loss: 0.5437\n",
            "Epoch 35/50\n",
            "\u001b[1m4922/4922\u001b[0m \u001b[32m━━━━━━━━━━━━━━━━━━━━\u001b[0m\u001b[37m\u001b[0m \u001b[1m20s\u001b[0m 3ms/step - accuracy: 0.7148 - loss: 0.5440 - val_accuracy: 0.7135 - val_loss: 0.5440\n",
            "Epoch 36/50\n",
            "\u001b[1m4922/4922\u001b[0m \u001b[32m━━━━━━━━━━━━━━━━━━━━\u001b[0m\u001b[37m\u001b[0m \u001b[1m14s\u001b[0m 3ms/step - accuracy: 0.7168 - loss: 0.5421 - val_accuracy: 0.7131 - val_loss: 0.5445\n",
            "Epoch 37/50\n",
            "\u001b[1m4922/4922\u001b[0m \u001b[32m━━━━━━━━━━━━━━━━━━━━\u001b[0m\u001b[37m\u001b[0m \u001b[1m21s\u001b[0m 3ms/step - accuracy: 0.7149 - loss: 0.5441 - val_accuracy: 0.7141 - val_loss: 0.5442\n",
            "Epoch 38/50\n",
            "\u001b[1m4922/4922\u001b[0m \u001b[32m━━━━━━━━━━━━━━━━━━━━\u001b[0m\u001b[37m\u001b[0m \u001b[1m14s\u001b[0m 3ms/step - accuracy: 0.7159 - loss: 0.5437 - val_accuracy: 0.7136 - val_loss: 0.5439\n",
            "Epoch 39/50\n",
            "\u001b[1m4922/4922\u001b[0m \u001b[32m━━━━━━━━━━━━━━━━━━━━\u001b[0m\u001b[37m\u001b[0m \u001b[1m14s\u001b[0m 3ms/step - accuracy: 0.7157 - loss: 0.5433 - val_accuracy: 0.7147 - val_loss: 0.5436\n",
            "Epoch 40/50\n",
            "\u001b[1m4922/4922\u001b[0m \u001b[32m━━━━━━━━━━━━━━━━━━━━\u001b[0m\u001b[37m\u001b[0m \u001b[1m21s\u001b[0m 3ms/step - accuracy: 0.7164 - loss: 0.5421 - val_accuracy: 0.7146 - val_loss: 0.5438\n",
            "Epoch 41/50\n",
            "\u001b[1m4922/4922\u001b[0m \u001b[32m━━━━━━━━━━━━━━━━━━━━\u001b[0m\u001b[37m\u001b[0m \u001b[1m14s\u001b[0m 3ms/step - accuracy: 0.7172 - loss: 0.5423 - val_accuracy: 0.7142 - val_loss: 0.5446\n",
            "Epoch 42/50\n",
            "\u001b[1m4922/4922\u001b[0m \u001b[32m━━━━━━━━━━━━━━━━━━━━\u001b[0m\u001b[37m\u001b[0m \u001b[1m20s\u001b[0m 3ms/step - accuracy: 0.7157 - loss: 0.5433 - val_accuracy: 0.7149 - val_loss: 0.5450\n",
            "Epoch 43/50\n",
            "\u001b[1m4922/4922\u001b[0m \u001b[32m━━━━━━━━━━━━━━━━━━━━\u001b[0m\u001b[37m\u001b[0m \u001b[1m22s\u001b[0m 3ms/step - accuracy: 0.7165 - loss: 0.5430 - val_accuracy: 0.7139 - val_loss: 0.5451\n",
            "Epoch 44/50\n",
            "\u001b[1m4922/4922\u001b[0m \u001b[32m━━━━━━━━━━━━━━━━━━━━\u001b[0m\u001b[37m\u001b[0m \u001b[1m14s\u001b[0m 3ms/step - accuracy: 0.7163 - loss: 0.5427 - val_accuracy: 0.7144 - val_loss: 0.5429\n",
            "Epoch 45/50\n",
            "\u001b[1m4922/4922\u001b[0m \u001b[32m━━━━━━━━━━━━━━━━━━━━\u001b[0m\u001b[37m\u001b[0m \u001b[1m14s\u001b[0m 3ms/step - accuracy: 0.7166 - loss: 0.5425 - val_accuracy: 0.7138 - val_loss: 0.5434\n",
            "Epoch 46/50\n",
            "\u001b[1m4922/4922\u001b[0m \u001b[32m━━━━━━━━━━━━━━━━━━━━\u001b[0m\u001b[37m\u001b[0m \u001b[1m21s\u001b[0m 3ms/step - accuracy: 0.7176 - loss: 0.5417 - val_accuracy: 0.7145 - val_loss: 0.5433\n",
            "Epoch 47/50\n",
            "\u001b[1m4922/4922\u001b[0m \u001b[32m━━━━━━━━━━━━━━━━━━━━\u001b[0m\u001b[37m\u001b[0m \u001b[1m20s\u001b[0m 3ms/step - accuracy: 0.7158 - loss: 0.5431 - val_accuracy: 0.7141 - val_loss: 0.5439\n",
            "Epoch 48/50\n",
            "\u001b[1m4922/4922\u001b[0m \u001b[32m━━━━━━━━━━━━━━━━━━━━\u001b[0m\u001b[37m\u001b[0m \u001b[1m14s\u001b[0m 3ms/step - accuracy: 0.7164 - loss: 0.5427 - val_accuracy: 0.7142 - val_loss: 0.5441\n",
            "Epoch 49/50\n",
            "\u001b[1m4922/4922\u001b[0m \u001b[32m━━━━━━━━━━━━━━━━━━━━\u001b[0m\u001b[37m\u001b[0m \u001b[1m26s\u001b[0m 4ms/step - accuracy: 0.7168 - loss: 0.5433 - val_accuracy: 0.7126 - val_loss: 0.5444\n",
            "Epoch 50/50\n",
            "\u001b[1m4922/4922\u001b[0m \u001b[32m━━━━━━━━━━━━━━━━━━━━\u001b[0m\u001b[37m\u001b[0m \u001b[1m14s\u001b[0m 3ms/step - accuracy: 0.7173 - loss: 0.5415 - val_accuracy: 0.7130 - val_loss: 0.5439\n"
          ]
        },
        {
          "output_type": "execute_result",
          "data": {
            "text/plain": [
              "<keras.src.callbacks.history.History at 0x79002b0fb890>"
            ]
          },
          "metadata": {},
          "execution_count": 4
        }
      ],
      "source": [
        "batch_size = 128\n",
        "epochs = 50\n",
        "\n",
        "model_high.compile(loss=\"binary_crossentropy\", optimizer=\"adam\", metrics=[\"accuracy\"])\n",
        "\n",
        "model_high.fit(x_high_train, y_high_train, batch_size=batch_size, epochs=epochs, validation_split=0.1)"
      ]
    },
    {
      "cell_type": "markdown",
      "metadata": {
        "id": "QY1s7vWcDHlI"
      },
      "source": [
        "## Evaluate the trained model"
      ]
    },
    {
      "cell_type": "code",
      "execution_count": 5,
      "metadata": {
        "id": "eWBRtHR0DHlI",
        "colab": {
          "base_uri": "https://localhost:8080/"
        },
        "outputId": "70473537-d41c-44aa-af50-616a084014ac"
      },
      "outputs": [
        {
          "output_type": "stream",
          "name": "stdout",
          "text": [
            "Test loss: 0.545439600944519\n",
            "Test accuracy: 0.7138199806213379\n"
          ]
        }
      ],
      "source": [
        "score = model_high.evaluate(x_high_test, y_high_test, verbose=0)\n",
        "print(\"Test loss:\", score[0])\n",
        "print(\"Test accuracy:\", score[1])"
      ]
    },
    {
      "cell_type": "code",
      "source": [
        "input_shape_low = (21,)\n",
        "\n",
        "model_low = keras.Sequential(\n",
        "    [\n",
        "        keras.Input(shape=input_shape_low),\n",
        "        layers.Dense(128, activation=\"relu\"),\n",
        "        layers.Dense(128, activation=\"relu\"),\n",
        "        layers.Dropout(0.2),\n",
        "        layers.Dense(128, activation=\"relu\"),\n",
        "        layers.Dense(128, activation=\"relu\"),\n",
        "        layers.Dropout(0.2),\n",
        "        layers.Dense(128, activation=\"relu\"),\n",
        "        layers.Dense(128, activation=\"relu\"),\n",
        "        layers.Dropout(0.2),\n",
        "        layers.Dense(1, activation=\"sigmoid\"),\n",
        "    ]\n",
        ")\n",
        "\n",
        "model_low.summary()"
      ],
      "metadata": {
        "colab": {
          "base_uri": "https://localhost:8080/",
          "height": 449
        },
        "id": "6fhVE9yOjElD",
        "outputId": "50be66d0-ce91-46d4-c691-2269c97358c1"
      },
      "execution_count": 6,
      "outputs": [
        {
          "output_type": "display_data",
          "data": {
            "text/plain": [
              "\u001b[1mModel: \"sequential_1\"\u001b[0m\n"
            ],
            "text/html": [
              "<pre style=\"white-space:pre;overflow-x:auto;line-height:normal;font-family:Menlo,'DejaVu Sans Mono',consolas,'Courier New',monospace\"><span style=\"font-weight: bold\">Model: \"sequential_1\"</span>\n",
              "</pre>\n"
            ]
          },
          "metadata": {}
        },
        {
          "output_type": "display_data",
          "data": {
            "text/plain": [
              "┏━━━━━━━━━━━━━━━━━━━━━━━━━━━━━━━━━━━━━━┳━━━━━━━━━━━━━━━━━━━━━━━━━━━━━┳━━━━━━━━━━━━━━━━━┓\n",
              "┃\u001b[1m \u001b[0m\u001b[1mLayer (type)                        \u001b[0m\u001b[1m \u001b[0m┃\u001b[1m \u001b[0m\u001b[1mOutput Shape               \u001b[0m\u001b[1m \u001b[0m┃\u001b[1m \u001b[0m\u001b[1m        Param #\u001b[0m\u001b[1m \u001b[0m┃\n",
              "┡━━━━━━━━━━━━━━━━━━━━━━━━━━━━━━━━━━━━━━╇━━━━━━━━━━━━━━━━━━━━━━━━━━━━━╇━━━━━━━━━━━━━━━━━┩\n",
              "│ dense_5 (\u001b[38;5;33mDense\u001b[0m)                      │ (\u001b[38;5;45mNone\u001b[0m, \u001b[38;5;34m128\u001b[0m)                 │           \u001b[38;5;34m2,816\u001b[0m │\n",
              "├──────────────────────────────────────┼─────────────────────────────┼─────────────────┤\n",
              "│ dense_6 (\u001b[38;5;33mDense\u001b[0m)                      │ (\u001b[38;5;45mNone\u001b[0m, \u001b[38;5;34m128\u001b[0m)                 │          \u001b[38;5;34m16,512\u001b[0m │\n",
              "├──────────────────────────────────────┼─────────────────────────────┼─────────────────┤\n",
              "│ dropout_2 (\u001b[38;5;33mDropout\u001b[0m)                  │ (\u001b[38;5;45mNone\u001b[0m, \u001b[38;5;34m128\u001b[0m)                 │               \u001b[38;5;34m0\u001b[0m │\n",
              "├──────────────────────────────────────┼─────────────────────────────┼─────────────────┤\n",
              "│ dense_7 (\u001b[38;5;33mDense\u001b[0m)                      │ (\u001b[38;5;45mNone\u001b[0m, \u001b[38;5;34m128\u001b[0m)                 │          \u001b[38;5;34m16,512\u001b[0m │\n",
              "├──────────────────────────────────────┼─────────────────────────────┼─────────────────┤\n",
              "│ dense_8 (\u001b[38;5;33mDense\u001b[0m)                      │ (\u001b[38;5;45mNone\u001b[0m, \u001b[38;5;34m128\u001b[0m)                 │          \u001b[38;5;34m16,512\u001b[0m │\n",
              "├──────────────────────────────────────┼─────────────────────────────┼─────────────────┤\n",
              "│ dropout_3 (\u001b[38;5;33mDropout\u001b[0m)                  │ (\u001b[38;5;45mNone\u001b[0m, \u001b[38;5;34m128\u001b[0m)                 │               \u001b[38;5;34m0\u001b[0m │\n",
              "├──────────────────────────────────────┼─────────────────────────────┼─────────────────┤\n",
              "│ dense_9 (\u001b[38;5;33mDense\u001b[0m)                      │ (\u001b[38;5;45mNone\u001b[0m, \u001b[38;5;34m128\u001b[0m)                 │          \u001b[38;5;34m16,512\u001b[0m │\n",
              "├──────────────────────────────────────┼─────────────────────────────┼─────────────────┤\n",
              "│ dense_10 (\u001b[38;5;33mDense\u001b[0m)                     │ (\u001b[38;5;45mNone\u001b[0m, \u001b[38;5;34m128\u001b[0m)                 │          \u001b[38;5;34m16,512\u001b[0m │\n",
              "├──────────────────────────────────────┼─────────────────────────────┼─────────────────┤\n",
              "│ dropout_4 (\u001b[38;5;33mDropout\u001b[0m)                  │ (\u001b[38;5;45mNone\u001b[0m, \u001b[38;5;34m128\u001b[0m)                 │               \u001b[38;5;34m0\u001b[0m │\n",
              "├──────────────────────────────────────┼─────────────────────────────┼─────────────────┤\n",
              "│ dense_11 (\u001b[38;5;33mDense\u001b[0m)                     │ (\u001b[38;5;45mNone\u001b[0m, \u001b[38;5;34m1\u001b[0m)                   │             \u001b[38;5;34m129\u001b[0m │\n",
              "└──────────────────────────────────────┴─────────────────────────────┴─────────────────┘\n"
            ],
            "text/html": [
              "<pre style=\"white-space:pre;overflow-x:auto;line-height:normal;font-family:Menlo,'DejaVu Sans Mono',consolas,'Courier New',monospace\">┏━━━━━━━━━━━━━━━━━━━━━━━━━━━━━━━━━━━━━━┳━━━━━━━━━━━━━━━━━━━━━━━━━━━━━┳━━━━━━━━━━━━━━━━━┓\n",
              "┃<span style=\"font-weight: bold\"> Layer (type)                         </span>┃<span style=\"font-weight: bold\"> Output Shape                </span>┃<span style=\"font-weight: bold\">         Param # </span>┃\n",
              "┡━━━━━━━━━━━━━━━━━━━━━━━━━━━━━━━━━━━━━━╇━━━━━━━━━━━━━━━━━━━━━━━━━━━━━╇━━━━━━━━━━━━━━━━━┩\n",
              "│ dense_5 (<span style=\"color: #0087ff; text-decoration-color: #0087ff\">Dense</span>)                      │ (<span style=\"color: #00d7ff; text-decoration-color: #00d7ff\">None</span>, <span style=\"color: #00af00; text-decoration-color: #00af00\">128</span>)                 │           <span style=\"color: #00af00; text-decoration-color: #00af00\">2,816</span> │\n",
              "├──────────────────────────────────────┼─────────────────────────────┼─────────────────┤\n",
              "│ dense_6 (<span style=\"color: #0087ff; text-decoration-color: #0087ff\">Dense</span>)                      │ (<span style=\"color: #00d7ff; text-decoration-color: #00d7ff\">None</span>, <span style=\"color: #00af00; text-decoration-color: #00af00\">128</span>)                 │          <span style=\"color: #00af00; text-decoration-color: #00af00\">16,512</span> │\n",
              "├──────────────────────────────────────┼─────────────────────────────┼─────────────────┤\n",
              "│ dropout_2 (<span style=\"color: #0087ff; text-decoration-color: #0087ff\">Dropout</span>)                  │ (<span style=\"color: #00d7ff; text-decoration-color: #00d7ff\">None</span>, <span style=\"color: #00af00; text-decoration-color: #00af00\">128</span>)                 │               <span style=\"color: #00af00; text-decoration-color: #00af00\">0</span> │\n",
              "├──────────────────────────────────────┼─────────────────────────────┼─────────────────┤\n",
              "│ dense_7 (<span style=\"color: #0087ff; text-decoration-color: #0087ff\">Dense</span>)                      │ (<span style=\"color: #00d7ff; text-decoration-color: #00d7ff\">None</span>, <span style=\"color: #00af00; text-decoration-color: #00af00\">128</span>)                 │          <span style=\"color: #00af00; text-decoration-color: #00af00\">16,512</span> │\n",
              "├──────────────────────────────────────┼─────────────────────────────┼─────────────────┤\n",
              "│ dense_8 (<span style=\"color: #0087ff; text-decoration-color: #0087ff\">Dense</span>)                      │ (<span style=\"color: #00d7ff; text-decoration-color: #00d7ff\">None</span>, <span style=\"color: #00af00; text-decoration-color: #00af00\">128</span>)                 │          <span style=\"color: #00af00; text-decoration-color: #00af00\">16,512</span> │\n",
              "├──────────────────────────────────────┼─────────────────────────────┼─────────────────┤\n",
              "│ dropout_3 (<span style=\"color: #0087ff; text-decoration-color: #0087ff\">Dropout</span>)                  │ (<span style=\"color: #00d7ff; text-decoration-color: #00d7ff\">None</span>, <span style=\"color: #00af00; text-decoration-color: #00af00\">128</span>)                 │               <span style=\"color: #00af00; text-decoration-color: #00af00\">0</span> │\n",
              "├──────────────────────────────────────┼─────────────────────────────┼─────────────────┤\n",
              "│ dense_9 (<span style=\"color: #0087ff; text-decoration-color: #0087ff\">Dense</span>)                      │ (<span style=\"color: #00d7ff; text-decoration-color: #00d7ff\">None</span>, <span style=\"color: #00af00; text-decoration-color: #00af00\">128</span>)                 │          <span style=\"color: #00af00; text-decoration-color: #00af00\">16,512</span> │\n",
              "├──────────────────────────────────────┼─────────────────────────────┼─────────────────┤\n",
              "│ dense_10 (<span style=\"color: #0087ff; text-decoration-color: #0087ff\">Dense</span>)                     │ (<span style=\"color: #00d7ff; text-decoration-color: #00d7ff\">None</span>, <span style=\"color: #00af00; text-decoration-color: #00af00\">128</span>)                 │          <span style=\"color: #00af00; text-decoration-color: #00af00\">16,512</span> │\n",
              "├──────────────────────────────────────┼─────────────────────────────┼─────────────────┤\n",
              "│ dropout_4 (<span style=\"color: #0087ff; text-decoration-color: #0087ff\">Dropout</span>)                  │ (<span style=\"color: #00d7ff; text-decoration-color: #00d7ff\">None</span>, <span style=\"color: #00af00; text-decoration-color: #00af00\">128</span>)                 │               <span style=\"color: #00af00; text-decoration-color: #00af00\">0</span> │\n",
              "├──────────────────────────────────────┼─────────────────────────────┼─────────────────┤\n",
              "│ dense_11 (<span style=\"color: #0087ff; text-decoration-color: #0087ff\">Dense</span>)                     │ (<span style=\"color: #00d7ff; text-decoration-color: #00d7ff\">None</span>, <span style=\"color: #00af00; text-decoration-color: #00af00\">1</span>)                   │             <span style=\"color: #00af00; text-decoration-color: #00af00\">129</span> │\n",
              "└──────────────────────────────────────┴─────────────────────────────┴─────────────────┘\n",
              "</pre>\n"
            ]
          },
          "metadata": {}
        },
        {
          "output_type": "display_data",
          "data": {
            "text/plain": [
              "\u001b[1m Total params: \u001b[0m\u001b[38;5;34m85,505\u001b[0m (334.00 KB)\n"
            ],
            "text/html": [
              "<pre style=\"white-space:pre;overflow-x:auto;line-height:normal;font-family:Menlo,'DejaVu Sans Mono',consolas,'Courier New',monospace\"><span style=\"font-weight: bold\"> Total params: </span><span style=\"color: #00af00; text-decoration-color: #00af00\">85,505</span> (334.00 KB)\n",
              "</pre>\n"
            ]
          },
          "metadata": {}
        },
        {
          "output_type": "display_data",
          "data": {
            "text/plain": [
              "\u001b[1m Trainable params: \u001b[0m\u001b[38;5;34m85,505\u001b[0m (334.00 KB)\n"
            ],
            "text/html": [
              "<pre style=\"white-space:pre;overflow-x:auto;line-height:normal;font-family:Menlo,'DejaVu Sans Mono',consolas,'Courier New',monospace\"><span style=\"font-weight: bold\"> Trainable params: </span><span style=\"color: #00af00; text-decoration-color: #00af00\">85,505</span> (334.00 KB)\n",
              "</pre>\n"
            ]
          },
          "metadata": {}
        },
        {
          "output_type": "display_data",
          "data": {
            "text/plain": [
              "\u001b[1m Non-trainable params: \u001b[0m\u001b[38;5;34m0\u001b[0m (0.00 B)\n"
            ],
            "text/html": [
              "<pre style=\"white-space:pre;overflow-x:auto;line-height:normal;font-family:Menlo,'DejaVu Sans Mono',consolas,'Courier New',monospace\"><span style=\"font-weight: bold\"> Non-trainable params: </span><span style=\"color: #00af00; text-decoration-color: #00af00\">0</span> (0.00 B)\n",
              "</pre>\n"
            ]
          },
          "metadata": {}
        }
      ]
    },
    {
      "cell_type": "markdown",
      "metadata": {
        "id": "OV1YOelGjTu8"
      },
      "source": [
        "## Train the model"
      ]
    },
    {
      "cell_type": "code",
      "execution_count": 7,
      "metadata": {
        "colab": {
          "base_uri": "https://localhost:8080/"
        },
        "outputId": "30a78a16-93ce-4a5e-c59a-2a7050a5bf22",
        "id": "pE3OcMnnjTu8"
      },
      "outputs": [
        {
          "output_type": "stream",
          "name": "stdout",
          "text": [
            "Epoch 1/50\n",
            "\u001b[1m4922/4922\u001b[0m \u001b[32m━━━━━━━━━━━━━━━━━━━━\u001b[0m\u001b[37m\u001b[0m \u001b[1m23s\u001b[0m 4ms/step - accuracy: 0.6142 - loss: 0.6495 - val_accuracy: 0.6602 - val_loss: 0.6117\n",
            "Epoch 2/50\n",
            "\u001b[1m4922/4922\u001b[0m \u001b[32m━━━━━━━━━━━━━━━━━━━━\u001b[0m\u001b[37m\u001b[0m \u001b[1m34s\u001b[0m 3ms/step - accuracy: 0.6635 - loss: 0.6116 - val_accuracy: 0.6740 - val_loss: 0.6017\n",
            "Epoch 3/50\n",
            "\u001b[1m4922/4922\u001b[0m \u001b[32m━━━━━━━━━━━━━━━━━━━━\u001b[0m\u001b[37m\u001b[0m \u001b[1m15s\u001b[0m 3ms/step - accuracy: 0.6743 - loss: 0.6001 - val_accuracy: 0.6829 - val_loss: 0.5910\n",
            "Epoch 4/50\n",
            "\u001b[1m4922/4922\u001b[0m \u001b[32m━━━━━━━━━━━━━━━━━━━━\u001b[0m\u001b[37m\u001b[0m \u001b[1m20s\u001b[0m 3ms/step - accuracy: 0.6814 - loss: 0.5929 - val_accuracy: 0.6843 - val_loss: 0.5887\n",
            "Epoch 5/50\n",
            "\u001b[1m4922/4922\u001b[0m \u001b[32m━━━━━━━━━━━━━━━━━━━━\u001b[0m\u001b[37m\u001b[0m \u001b[1m21s\u001b[0m 3ms/step - accuracy: 0.6859 - loss: 0.5877 - val_accuracy: 0.6896 - val_loss: 0.5848\n",
            "Epoch 6/50\n",
            "\u001b[1m4922/4922\u001b[0m \u001b[32m━━━━━━━━━━━━━━━━━━━━\u001b[0m\u001b[37m\u001b[0m \u001b[1m15s\u001b[0m 3ms/step - accuracy: 0.6891 - loss: 0.5844 - val_accuracy: 0.6923 - val_loss: 0.5800\n",
            "Epoch 7/50\n",
            "\u001b[1m4922/4922\u001b[0m \u001b[32m━━━━━━━━━━━━━━━━━━━━\u001b[0m\u001b[37m\u001b[0m \u001b[1m14s\u001b[0m 3ms/step - accuracy: 0.6932 - loss: 0.5806 - val_accuracy: 0.6925 - val_loss: 0.5797\n",
            "Epoch 8/50\n",
            "\u001b[1m4922/4922\u001b[0m \u001b[32m━━━━━━━━━━━━━━━━━━━━\u001b[0m\u001b[37m\u001b[0m \u001b[1m20s\u001b[0m 3ms/step - accuracy: 0.6943 - loss: 0.5789 - val_accuracy: 0.6964 - val_loss: 0.5773\n",
            "Epoch 9/50\n",
            "\u001b[1m4922/4922\u001b[0m \u001b[32m━━━━━━━━━━━━━━━━━━━━\u001b[0m\u001b[37m\u001b[0m \u001b[1m14s\u001b[0m 3ms/step - accuracy: 0.6981 - loss: 0.5752 - val_accuracy: 0.6962 - val_loss: 0.5754\n",
            "Epoch 10/50\n",
            "\u001b[1m4922/4922\u001b[0m \u001b[32m━━━━━━━━━━━━━━━━━━━━\u001b[0m\u001b[37m\u001b[0m \u001b[1m14s\u001b[0m 3ms/step - accuracy: 0.6989 - loss: 0.5733 - val_accuracy: 0.6989 - val_loss: 0.5725\n",
            "Epoch 11/50\n",
            "\u001b[1m4922/4922\u001b[0m \u001b[32m━━━━━━━━━━━━━━━━━━━━\u001b[0m\u001b[37m\u001b[0m \u001b[1m14s\u001b[0m 3ms/step - accuracy: 0.7001 - loss: 0.5717 - val_accuracy: 0.7002 - val_loss: 0.5731\n",
            "Epoch 12/50\n",
            "\u001b[1m4922/4922\u001b[0m \u001b[32m━━━━━━━━━━━━━━━━━━━━\u001b[0m\u001b[37m\u001b[0m \u001b[1m15s\u001b[0m 3ms/step - accuracy: 0.7019 - loss: 0.5697 - val_accuracy: 0.7012 - val_loss: 0.5704\n",
            "Epoch 13/50\n",
            "\u001b[1m4922/4922\u001b[0m \u001b[32m━━━━━━━━━━━━━━━━━━━━\u001b[0m\u001b[37m\u001b[0m \u001b[1m15s\u001b[0m 3ms/step - accuracy: 0.7035 - loss: 0.5686 - val_accuracy: 0.7000 - val_loss: 0.5702\n",
            "Epoch 14/50\n",
            "\u001b[1m4922/4922\u001b[0m \u001b[32m━━━━━━━━━━━━━━━━━━━━\u001b[0m\u001b[37m\u001b[0m \u001b[1m14s\u001b[0m 3ms/step - accuracy: 0.7033 - loss: 0.5672 - val_accuracy: 0.7006 - val_loss: 0.5707\n",
            "Epoch 15/50\n",
            "\u001b[1m4922/4922\u001b[0m \u001b[32m━━━━━━━━━━━━━━━━━━━━\u001b[0m\u001b[37m\u001b[0m \u001b[1m21s\u001b[0m 3ms/step - accuracy: 0.7041 - loss: 0.5667 - val_accuracy: 0.7040 - val_loss: 0.5679\n",
            "Epoch 16/50\n",
            "\u001b[1m4922/4922\u001b[0m \u001b[32m━━━━━━━━━━━━━━━━━━━━\u001b[0m\u001b[37m\u001b[0m \u001b[1m20s\u001b[0m 3ms/step - accuracy: 0.7055 - loss: 0.5655 - val_accuracy: 0.7043 - val_loss: 0.5669\n",
            "Epoch 17/50\n",
            "\u001b[1m4922/4922\u001b[0m \u001b[32m━━━━━━━━━━━━━━━━━━━━\u001b[0m\u001b[37m\u001b[0m \u001b[1m15s\u001b[0m 3ms/step - accuracy: 0.7063 - loss: 0.5644 - val_accuracy: 0.7045 - val_loss: 0.5659\n",
            "Epoch 18/50\n",
            "\u001b[1m4922/4922\u001b[0m \u001b[32m━━━━━━━━━━━━━━━━━━━━\u001b[0m\u001b[37m\u001b[0m \u001b[1m20s\u001b[0m 3ms/step - accuracy: 0.7071 - loss: 0.5633 - val_accuracy: 0.7052 - val_loss: 0.5656\n",
            "Epoch 19/50\n",
            "\u001b[1m4922/4922\u001b[0m \u001b[32m━━━━━━━━━━━━━━━━━━━━\u001b[0m\u001b[37m\u001b[0m \u001b[1m14s\u001b[0m 3ms/step - accuracy: 0.7100 - loss: 0.5601 - val_accuracy: 0.7070 - val_loss: 0.5639\n",
            "Epoch 20/50\n",
            "\u001b[1m4922/4922\u001b[0m \u001b[32m━━━━━━━━━━━━━━━━━━━━\u001b[0m\u001b[37m\u001b[0m \u001b[1m20s\u001b[0m 3ms/step - accuracy: 0.7098 - loss: 0.5595 - val_accuracy: 0.7086 - val_loss: 0.5635\n",
            "Epoch 21/50\n",
            "\u001b[1m4922/4922\u001b[0m \u001b[32m━━━━━━━━━━━━━━━━━━━━\u001b[0m\u001b[37m\u001b[0m \u001b[1m20s\u001b[0m 3ms/step - accuracy: 0.7108 - loss: 0.5589 - val_accuracy: 0.7089 - val_loss: 0.5622\n",
            "Epoch 22/50\n",
            "\u001b[1m4922/4922\u001b[0m \u001b[32m━━━━━━━━━━━━━━━━━━━━\u001b[0m\u001b[37m\u001b[0m \u001b[1m15s\u001b[0m 3ms/step - accuracy: 0.7123 - loss: 0.5573 - val_accuracy: 0.7095 - val_loss: 0.5634\n",
            "Epoch 23/50\n",
            "\u001b[1m4922/4922\u001b[0m \u001b[32m━━━━━━━━━━━━━━━━━━━━\u001b[0m\u001b[37m\u001b[0m \u001b[1m20s\u001b[0m 3ms/step - accuracy: 0.7126 - loss: 0.5567 - val_accuracy: 0.7104 - val_loss: 0.5606\n",
            "Epoch 24/50\n",
            "\u001b[1m4922/4922\u001b[0m \u001b[32m━━━━━━━━━━━━━━━━━━━━\u001b[0m\u001b[37m\u001b[0m \u001b[1m14s\u001b[0m 3ms/step - accuracy: 0.7130 - loss: 0.5559 - val_accuracy: 0.7101 - val_loss: 0.5601\n",
            "Epoch 25/50\n",
            "\u001b[1m4922/4922\u001b[0m \u001b[32m━━━━━━━━━━━━━━━━━━━━\u001b[0m\u001b[37m\u001b[0m \u001b[1m14s\u001b[0m 3ms/step - accuracy: 0.7156 - loss: 0.5542 - val_accuracy: 0.7104 - val_loss: 0.5599\n",
            "Epoch 26/50\n",
            "\u001b[1m4922/4922\u001b[0m \u001b[32m━━━━━━━━━━━━━━━━━━━━\u001b[0m\u001b[37m\u001b[0m \u001b[1m21s\u001b[0m 3ms/step - accuracy: 0.7149 - loss: 0.5548 - val_accuracy: 0.7101 - val_loss: 0.5595\n",
            "Epoch 27/50\n",
            "\u001b[1m4922/4922\u001b[0m \u001b[32m━━━━━━━━━━━━━━━━━━━━\u001b[0m\u001b[37m\u001b[0m \u001b[1m21s\u001b[0m 3ms/step - accuracy: 0.7153 - loss: 0.5533 - val_accuracy: 0.7095 - val_loss: 0.5598\n",
            "Epoch 28/50\n",
            "\u001b[1m4922/4922\u001b[0m \u001b[32m━━━━━━━━━━━━━━━━━━━━\u001b[0m\u001b[37m\u001b[0m \u001b[1m20s\u001b[0m 3ms/step - accuracy: 0.7160 - loss: 0.5527 - val_accuracy: 0.7100 - val_loss: 0.5592\n",
            "Epoch 29/50\n",
            "\u001b[1m4922/4922\u001b[0m \u001b[32m━━━━━━━━━━━━━━━━━━━━\u001b[0m\u001b[37m\u001b[0m \u001b[1m15s\u001b[0m 3ms/step - accuracy: 0.7163 - loss: 0.5523 - val_accuracy: 0.7109 - val_loss: 0.5588\n",
            "Epoch 30/50\n",
            "\u001b[1m4922/4922\u001b[0m \u001b[32m━━━━━━━━━━━━━━━━━━━━\u001b[0m\u001b[37m\u001b[0m \u001b[1m20s\u001b[0m 3ms/step - accuracy: 0.7178 - loss: 0.5505 - val_accuracy: 0.7129 - val_loss: 0.5593\n",
            "Epoch 31/50\n",
            "\u001b[1m4922/4922\u001b[0m \u001b[32m━━━━━━━━━━━━━━━━━━━━\u001b[0m\u001b[37m\u001b[0m \u001b[1m15s\u001b[0m 3ms/step - accuracy: 0.7186 - loss: 0.5501 - val_accuracy: 0.7127 - val_loss: 0.5578\n",
            "Epoch 32/50\n",
            "\u001b[1m4922/4922\u001b[0m \u001b[32m━━━━━━━━━━━━━━━━━━━━\u001b[0m\u001b[37m\u001b[0m \u001b[1m20s\u001b[0m 3ms/step - accuracy: 0.7181 - loss: 0.5497 - val_accuracy: 0.7116 - val_loss: 0.5569\n",
            "Epoch 33/50\n",
            "\u001b[1m4922/4922\u001b[0m \u001b[32m━━━━━━━━━━━━━━━━━━━━\u001b[0m\u001b[37m\u001b[0m \u001b[1m15s\u001b[0m 3ms/step - accuracy: 0.7177 - loss: 0.5502 - val_accuracy: 0.7132 - val_loss: 0.5567\n",
            "Epoch 34/50\n",
            "\u001b[1m4922/4922\u001b[0m \u001b[32m━━━━━━━━━━━━━━━━━━━━\u001b[0m\u001b[37m\u001b[0m \u001b[1m16s\u001b[0m 3ms/step - accuracy: 0.7174 - loss: 0.5501 - val_accuracy: 0.7114 - val_loss: 0.5568\n",
            "Epoch 35/50\n",
            "\u001b[1m4922/4922\u001b[0m \u001b[32m━━━━━━━━━━━━━━━━━━━━\u001b[0m\u001b[37m\u001b[0m \u001b[1m19s\u001b[0m 3ms/step - accuracy: 0.7196 - loss: 0.5485 - val_accuracy: 0.7114 - val_loss: 0.5578\n",
            "Epoch 36/50\n",
            "\u001b[1m4922/4922\u001b[0m \u001b[32m━━━━━━━━━━━━━━━━━━━━\u001b[0m\u001b[37m\u001b[0m \u001b[1m20s\u001b[0m 3ms/step - accuracy: 0.7193 - loss: 0.5494 - val_accuracy: 0.7121 - val_loss: 0.5573\n",
            "Epoch 37/50\n",
            "\u001b[1m4922/4922\u001b[0m \u001b[32m━━━━━━━━━━━━━━━━━━━━\u001b[0m\u001b[37m\u001b[0m \u001b[1m14s\u001b[0m 3ms/step - accuracy: 0.7200 - loss: 0.5474 - val_accuracy: 0.7132 - val_loss: 0.5554\n",
            "Epoch 38/50\n",
            "\u001b[1m4922/4922\u001b[0m \u001b[32m━━━━━━━━━━━━━━━━━━━━\u001b[0m\u001b[37m\u001b[0m \u001b[1m15s\u001b[0m 3ms/step - accuracy: 0.7204 - loss: 0.5470 - val_accuracy: 0.7111 - val_loss: 0.5564\n",
            "Epoch 39/50\n",
            "\u001b[1m4922/4922\u001b[0m \u001b[32m━━━━━━━━━━━━━━━━━━━━\u001b[0m\u001b[37m\u001b[0m \u001b[1m15s\u001b[0m 3ms/step - accuracy: 0.7197 - loss: 0.5469 - val_accuracy: 0.7145 - val_loss: 0.5567\n",
            "Epoch 40/50\n",
            "\u001b[1m4922/4922\u001b[0m \u001b[32m━━━━━━━━━━━━━━━━━━━━\u001b[0m\u001b[37m\u001b[0m \u001b[1m15s\u001b[0m 3ms/step - accuracy: 0.7212 - loss: 0.5456 - val_accuracy: 0.7148 - val_loss: 0.5551\n",
            "Epoch 41/50\n",
            "\u001b[1m4922/4922\u001b[0m \u001b[32m━━━━━━━━━━━━━━━━━━━━\u001b[0m\u001b[37m\u001b[0m \u001b[1m15s\u001b[0m 3ms/step - accuracy: 0.7223 - loss: 0.5446 - val_accuracy: 0.7153 - val_loss: 0.5565\n",
            "Epoch 42/50\n",
            "\u001b[1m4922/4922\u001b[0m \u001b[32m━━━━━━━━━━━━━━━━━━━━\u001b[0m\u001b[37m\u001b[0m \u001b[1m14s\u001b[0m 3ms/step - accuracy: 0.7218 - loss: 0.5453 - val_accuracy: 0.7144 - val_loss: 0.5556\n",
            "Epoch 43/50\n",
            "\u001b[1m4922/4922\u001b[0m \u001b[32m━━━━━━━━━━━━━━━━━━━━\u001b[0m\u001b[37m\u001b[0m \u001b[1m14s\u001b[0m 3ms/step - accuracy: 0.7222 - loss: 0.5453 - val_accuracy: 0.7139 - val_loss: 0.5556\n",
            "Epoch 44/50\n",
            "\u001b[1m4922/4922\u001b[0m \u001b[32m━━━━━━━━━━━━━━━━━━━━\u001b[0m\u001b[37m\u001b[0m \u001b[1m20s\u001b[0m 3ms/step - accuracy: 0.7224 - loss: 0.5446 - val_accuracy: 0.7126 - val_loss: 0.5564\n",
            "Epoch 45/50\n",
            "\u001b[1m4922/4922\u001b[0m \u001b[32m━━━━━━━━━━━━━━━━━━━━\u001b[0m\u001b[37m\u001b[0m \u001b[1m15s\u001b[0m 3ms/step - accuracy: 0.7232 - loss: 0.5446 - val_accuracy: 0.7167 - val_loss: 0.5539\n",
            "Epoch 46/50\n",
            "\u001b[1m4922/4922\u001b[0m \u001b[32m━━━━━━━━━━━━━━━━━━━━\u001b[0m\u001b[37m\u001b[0m \u001b[1m16s\u001b[0m 3ms/step - accuracy: 0.7233 - loss: 0.5434 - val_accuracy: 0.7132 - val_loss: 0.5561\n",
            "Epoch 47/50\n",
            "\u001b[1m4922/4922\u001b[0m \u001b[32m━━━━━━━━━━━━━━━━━━━━\u001b[0m\u001b[37m\u001b[0m \u001b[1m14s\u001b[0m 3ms/step - accuracy: 0.7235 - loss: 0.5437 - val_accuracy: 0.7136 - val_loss: 0.5555\n",
            "Epoch 48/50\n",
            "\u001b[1m4922/4922\u001b[0m \u001b[32m━━━━━━━━━━━━━━━━━━━━\u001b[0m\u001b[37m\u001b[0m \u001b[1m21s\u001b[0m 3ms/step - accuracy: 0.7233 - loss: 0.5432 - val_accuracy: 0.7146 - val_loss: 0.5543\n",
            "Epoch 49/50\n",
            "\u001b[1m4922/4922\u001b[0m \u001b[32m━━━━━━━━━━━━━━━━━━━━\u001b[0m\u001b[37m\u001b[0m \u001b[1m15s\u001b[0m 3ms/step - accuracy: 0.7233 - loss: 0.5441 - val_accuracy: 0.7143 - val_loss: 0.5547\n",
            "Epoch 50/50\n",
            "\u001b[1m4922/4922\u001b[0m \u001b[32m━━━━━━━━━━━━━━━━━━━━\u001b[0m\u001b[37m\u001b[0m \u001b[1m15s\u001b[0m 3ms/step - accuracy: 0.7232 - loss: 0.5437 - val_accuracy: 0.7146 - val_loss: 0.5536\n"
          ]
        },
        {
          "output_type": "execute_result",
          "data": {
            "text/plain": [
              "<keras.src.callbacks.history.History at 0x78fff0200790>"
            ]
          },
          "metadata": {},
          "execution_count": 7
        }
      ],
      "source": [
        "batch_size = 128\n",
        "epochs = 50\n",
        "\n",
        "model_low.compile(loss=\"binary_crossentropy\", optimizer=\"adam\", metrics=[\"accuracy\"])\n",
        "\n",
        "model_low.fit(x_low_train, y_low_train, batch_size=batch_size, epochs=epochs, validation_split=0.1)"
      ]
    },
    {
      "cell_type": "markdown",
      "metadata": {
        "id": "uLYdq7bSjTu8"
      },
      "source": [
        "## Evaluate the trained model"
      ]
    },
    {
      "cell_type": "code",
      "execution_count": 8,
      "metadata": {
        "colab": {
          "base_uri": "https://localhost:8080/"
        },
        "id": "pd7nhOiXjTu8",
        "outputId": "c34353ee-7ab7-4735-afa1-70a607193d11"
      },
      "outputs": [
        {
          "output_type": "stream",
          "name": "stdout",
          "text": [
            "Test loss: 0.5514819025993347\n",
            "Test accuracy: 0.7167533040046692\n"
          ]
        }
      ],
      "source": [
        "score = model_low.evaluate(x_low_test, y_low_test, verbose=0)\n",
        "print(\"Test loss:\", score[0])\n",
        "print(\"Test accuracy:\", score[1])"
      ]
    }
  ]
}